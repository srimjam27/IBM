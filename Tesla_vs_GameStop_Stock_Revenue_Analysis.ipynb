{
 "cells": [
  {
   "cell_type": "markdown",
   "id": "6bc84f0f",
   "metadata": {},
   "source": [
    "# Tesla vs GameStop: Stock and Revenue Analysis"
   ]
  },
  {
   "cell_type": "markdown",
   "id": "5b6f7c82",
   "metadata": {},
   "source": [
    "## Question 1: Use yfinance to Extract Tesla Stock Data"
   ]
  },
  {
   "cell_type": "code",
   "execution_count": null,
   "id": "837a7873",
   "metadata": {},
   "outputs": [],
   "source": [
    "import yfinance as yf\n",
    "# Create a ticker object for Tesla\n",
    "tesla = yf.Ticker(\"TSLA\")\n",
    "# Get historical market data\n",
    "tesla_data = tesla.history(period=\"max\")\n",
    "# Reset index\n",
    "tesla_data.reset_index(inplace=True)\n",
    "# Display first 5 rows\n",
    "tesla_data.head()"
   ]
  },
  {
   "cell_type": "markdown",
   "id": "a6cbc01a",
   "metadata": {},
   "source": [
    "## Question 2: Use Webscraping to Extract Tesla Revenue Data"
   ]
  },
  {
   "cell_type": "code",
   "execution_count": null,
   "id": "02e073b7",
   "metadata": {},
   "outputs": [],
   "source": [
    "import requests\n",
    "from bs4 import BeautifulSoup\n",
    "import pandas as pd\n",
    "\n",
    "url = \"https://www.macrotrends.net/stocks/charts/TSLA/tesla/revenue\"\n",
    "html_data = requests.get(url).text\n",
    "soup = BeautifulSoup(html_data, \"html.parser\")\n",
    "\n",
    "tesla_revenue = pd.DataFrame(columns=[\"Date\", \"Revenue\"])\n",
    "\n",
    "for row in soup.find_all(\"tr\"):\n",
    "    cols = row.find_all(\"td\")\n",
    "    if len(cols) == 2:\n",
    "        date = cols[0].text.strip()\n",
    "        revenue = cols[1].text.strip().replace(\"$\", \"\").replace(\",\", \"\")\n",
    "        if revenue != \"\":\n",
    "            tesla_revenue = tesla_revenue.append({\"Date\": date, \"Revenue\": revenue}, ignore_index=True)\n",
    "\n",
    "tesla_revenue.tail()"
   ]
  },
  {
   "cell_type": "markdown",
   "id": "46068e8b",
   "metadata": {},
   "source": [
    "## Question 3: Use yfinance to Extract GameStop Stock Data"
   ]
  },
  {
   "cell_type": "code",
   "execution_count": null,
   "id": "e192db0a",
   "metadata": {},
   "outputs": [],
   "source": [
    "# Create a ticker object for GameStop\n",
    "gme = yf.Ticker(\"GME\")\n",
    "# Get historical market data\n",
    "gme_data = gme.history(period=\"max\")\n",
    "# Reset index\n",
    "gme_data.reset_index(inplace=True)\n",
    "# Display first 5 rows\n",
    "gme_data.head()"
   ]
  },
  {
   "cell_type": "markdown",
   "id": "e691514e",
   "metadata": {},
   "source": [
    "## Question 4: Use Webscraping to Extract GME Revenue Data"
   ]
  },
  {
   "cell_type": "code",
   "execution_count": null,
   "id": "5e33d147",
   "metadata": {},
   "outputs": [],
   "source": [
    "url = \"https://www.macrotrends.net/stocks/charts/GME/gamestop/revenue\"\n",
    "html_data = requests.get(url).text\n",
    "soup = BeautifulSoup(html_data, \"html.parser\")\n",
    "\n",
    "gme_revenue = pd.DataFrame(columns=[\"Date\", \"Revenue\"])\n",
    "\n",
    "for row in soup.find_all(\"tr\"):\n",
    "    cols = row.find_all(\"td\")\n",
    "    if len(cols) == 2:\n",
    "        date = cols[0].text.strip()\n",
    "        revenue = cols[1].text.strip().replace(\"$\", \"\").replace(\",\", \"\")\n",
    "        if revenue != \"\":\n",
    "            gme_revenue = gme_revenue.append({\"Date\": date, \"Revenue\": revenue}, ignore_index=True)\n",
    "\n",
    "gme_revenue.tail()"
   ]
  },
  {
   "cell_type": "markdown",
   "id": "a073cdd0",
   "metadata": {},
   "source": [
    "## Question 5: Plot Tesla Stock Graph"
   ]
  },
  {
   "cell_type": "code",
   "execution_count": null,
   "id": "71f175bc",
   "metadata": {},
   "outputs": [],
   "source": [
    "import plotly.graph_objects as go\n",
    "\n",
    "def make_graph(stock_data, revenue_data, stock, title):\n",
    "    fig = go.Figure()\n",
    "    fig.add_trace(go.Scatter(x=stock_data['Date'], y=stock_data['Close'], name=\"Stock Price\"))\n",
    "    fig.add_trace(go.Scatter(x=revenue_data['Date'], y=revenue_data['Revenue'], name=\"Revenue\"))\n",
    "    fig.update_layout(title=title, xaxis_title=\"Date\", yaxis_title=\"USD\", template=\"plotly_dark\")\n",
    "    fig.show()\n",
    "\n",
    "make_graph(tesla_data, tesla_revenue, 'TSLA', 'Tesla Stock Price vs Revenue')"
   ]
  },
  {
   "cell_type": "markdown",
   "id": "b4cbd838",
   "metadata": {},
   "source": [
    "## Question 6: Plot GameStop Stock Graph"
   ]
  },
  {
   "cell_type": "code",
   "execution_count": null,
   "id": "371156b0",
   "metadata": {},
   "outputs": [],
   "source": [
    "make_graph(gme_data, gme_revenue, 'GME', 'GameStop Stock Price vs Revenue')"
   ]
  },
  {
   "cell_type": "markdown",
   "id": "6b153eb0",
   "metadata": {},
   "source": [
    "## Question 7: Share Your Notebook"
   ]
  },
  {
   "cell_type": "markdown",
   "id": "692e1682",
   "metadata": {},
   "source": [
    "Paste your shared GitHub or Watson Studio notebook URL below:\n",
    "\n",
    "`https://your-shared-link-here`"
   ]
  }
 ],
 "metadata": {},
 "nbformat": 4,
 "nbformat_minor": 5
}